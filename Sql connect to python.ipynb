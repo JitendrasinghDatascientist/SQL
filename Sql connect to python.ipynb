{
 "cells": [
  {
   "cell_type": "code",
   "execution_count": 1,
   "id": "4ef85759",
   "metadata": {},
   "outputs": [],
   "source": [
    "import sqlite3"
   ]
  },
  {
   "cell_type": "code",
   "execution_count": 2,
   "id": "d0ed9936",
   "metadata": {},
   "outputs": [
    {
     "data": {
      "text/plain": [
       "<sqlite3.Connection at 0x173ec3c9f30>"
      ]
     },
     "execution_count": 2,
     "metadata": {},
     "output_type": "execute_result"
    }
   ],
   "source": [
    "conn = sqlite3.connect(\"Jitendrahospital\")\n",
    "conn"
   ]
  },
  {
   "cell_type": "code",
   "execution_count": 3,
   "id": "0532e792",
   "metadata": {},
   "outputs": [],
   "source": [
    "cursor = conn.cursor()"
   ]
  },
  {
   "cell_type": "code",
   "execution_count": 4,
   "id": "707671af",
   "metadata": {},
   "outputs": [
    {
     "data": {
      "text/plain": [
       "<sqlite3.Cursor at 0x173ec33aac0>"
      ]
     },
     "execution_count": 4,
     "metadata": {},
     "output_type": "execute_result"
    }
   ],
   "source": [
    "cursor"
   ]
  },
  {
   "cell_type": "code",
   "execution_count": 7,
   "id": "e2ebbe5c",
   "metadata": {},
   "outputs": [
    {
     "data": {
      "text/plain": [
       "<sqlite3.Cursor at 0x173ec33aac0>"
      ]
     },
     "execution_count": 7,
     "metadata": {},
     "output_type": "execute_result"
    }
   ],
   "source": [
    "cursor.execute('''\n",
    "Create table employees(\n",
    "Empid int,\n",
    "Firstname varchar(255),\n",
    "lastname varchar(255),\n",
    "department varchar(255)\n",
    ");''')"
   ]
  },
  {
   "cell_type": "code",
   "execution_count": 8,
   "id": "fb91226e",
   "metadata": {},
   "outputs": [],
   "source": [
    "data = [\n",
    "    (101,\"jitendra\",\"singh\",\"data analyst\"),\n",
    "    (102,\"jeetu\",\"singh\",\"data analyst\")\n",
    "]\n"
   ]
  },
  {
   "cell_type": "code",
   "execution_count": 10,
   "id": "af0da460",
   "metadata": {},
   "outputs": [
    {
     "data": {
      "text/plain": [
       "<sqlite3.Cursor at 0x173ec33aac0>"
      ]
     },
     "execution_count": 10,
     "metadata": {},
     "output_type": "execute_result"
    }
   ],
   "source": [
    "cursor.executemany(\n",
    "'''\n",
    "insert into employees(Empid,Firstname,lastname,department)\n",
    "values(?,?,?,?)''',data)"
   ]
  },
  {
   "cell_type": "code",
   "execution_count": 11,
   "id": "ac5f9cfc",
   "metadata": {},
   "outputs": [
    {
     "data": {
      "text/plain": [
       "<sqlite3.Cursor at 0x173ec33aac0>"
      ]
     },
     "execution_count": 11,
     "metadata": {},
     "output_type": "execute_result"
    }
   ],
   "source": [
    "cursor.execute('''\n",
    "select * from employees''')"
   ]
  },
  {
   "cell_type": "code",
   "execution_count": 13,
   "id": "32a4b90f",
   "metadata": {},
   "outputs": [],
   "source": [
    "data=cursor.fetchall()"
   ]
  },
  {
   "cell_type": "code",
   "execution_count": 14,
   "id": "06ada6da",
   "metadata": {},
   "outputs": [
    {
     "data": {
      "text/plain": [
       "[(101, 'jitendra', 'singh', 'data analyst'),\n",
       " (102, 'jeetu', 'singh', 'data analyst')]"
      ]
     },
     "execution_count": 14,
     "metadata": {},
     "output_type": "execute_result"
    }
   ],
   "source": [
    "data"
   ]
  },
  {
   "cell_type": "code",
   "execution_count": 15,
   "id": "e96ca2e6",
   "metadata": {},
   "outputs": [],
   "source": [
    "import pymysql"
   ]
  },
  {
   "cell_type": "code",
   "execution_count": 16,
   "id": "d23686bc",
   "metadata": {},
   "outputs": [],
   "source": [
    "conn = pymysql.connect(\n",
    "host=\"localhost\",\n",
    "user = \"root\",\n",
    "password = \"\",\n",
    "database = \"kumarhospital\")"
   ]
  },
  {
   "cell_type": "code",
   "execution_count": 17,
   "id": "d266c8c0",
   "metadata": {},
   "outputs": [
    {
     "data": {
      "text/plain": [
       "<pymysql.connections.Connection at 0x173ed215390>"
      ]
     },
     "execution_count": 17,
     "metadata": {},
     "output_type": "execute_result"
    }
   ],
   "source": [
    "conn"
   ]
  },
  {
   "cell_type": "code",
   "execution_count": 18,
   "id": "cbfea341",
   "metadata": {},
   "outputs": [],
   "source": [
    "cursor = conn.cursor()"
   ]
  },
  {
   "cell_type": "code",
   "execution_count": 19,
   "id": "6b4699ca",
   "metadata": {},
   "outputs": [
    {
     "data": {
      "text/plain": [
       "<pymysql.cursors.Cursor at 0x173ec3d6050>"
      ]
     },
     "execution_count": 19,
     "metadata": {},
     "output_type": "execute_result"
    }
   ],
   "source": [
    "cursor"
   ]
  },
  {
   "cell_type": "code",
   "execution_count": 20,
   "id": "277e5f04",
   "metadata": {},
   "outputs": [
    {
     "data": {
      "text/plain": [
       "0"
      ]
     },
     "execution_count": 20,
     "metadata": {},
     "output_type": "execute_result"
    }
   ],
   "source": [
    "cursor.execute('''\n",
    "create table football(\n",
    "empid int,\n",
    "firstname varchar(255),\n",
    "lastname varchar(255),\n",
    "department varchar(255));''')"
   ]
  },
  {
   "cell_type": "code",
   "execution_count": 21,
   "id": "b4d59acf",
   "metadata": {},
   "outputs": [],
   "source": [
    "data = [\n",
    "    (101,\"jitendra\",\"singh\",\"data analyst\"),\n",
    "    (102,\"jeetu\",\"singh\",\"data analyst\")\n",
    "]"
   ]
  },
  {
   "cell_type": "code",
   "execution_count": 22,
   "id": "9298158c",
   "metadata": {},
   "outputs": [
    {
     "data": {
      "text/plain": [
       "2"
      ]
     },
     "execution_count": 22,
     "metadata": {},
     "output_type": "execute_result"
    }
   ],
   "source": [
    "cursor.executemany('''\n",
    "insert into football(empid,firstname,lastname,department)values(%s,%s,%s,%s)''',data)"
   ]
  },
  {
   "cell_type": "code",
   "execution_count": 25,
   "id": "ecfff268",
   "metadata": {},
   "outputs": [],
   "source": [
    "conn.commit()"
   ]
  },
  {
   "cell_type": "code",
   "execution_count": 26,
   "id": "3844f051",
   "metadata": {},
   "outputs": [
    {
     "data": {
      "text/plain": [
       "2"
      ]
     },
     "execution_count": 26,
     "metadata": {},
     "output_type": "execute_result"
    }
   ],
   "source": [
    "cursor.execute('''\n",
    "select * from football''')"
   ]
  },
  {
   "cell_type": "code",
   "execution_count": 28,
   "id": "4d7df6ff",
   "metadata": {},
   "outputs": [
    {
     "data": {
      "text/plain": [
       "()"
      ]
     },
     "execution_count": 28,
     "metadata": {},
     "output_type": "execute_result"
    }
   ],
   "source": [
    "data = cursor.fetchall()\n",
    "data"
   ]
  },
  {
   "cell_type": "code",
   "execution_count": 29,
   "id": "b4653c34",
   "metadata": {},
   "outputs": [],
   "source": [
    "datatodelete = \"jitendra\""
   ]
  },
  {
   "cell_type": "code",
   "execution_count": 30,
   "id": "3d916705",
   "metadata": {},
   "outputs": [],
   "source": [
    "deletequery = '''\n",
    "delete from football\n",
    "where firstname = %s'''"
   ]
  },
  {
   "cell_type": "code",
   "execution_count": 32,
   "id": "e729db9d",
   "metadata": {},
   "outputs": [
    {
     "data": {
      "text/plain": [
       "1"
      ]
     },
     "execution_count": 32,
     "metadata": {},
     "output_type": "execute_result"
    }
   ],
   "source": [
    "cursor.execute(deletequery,datatodelete)"
   ]
  },
  {
   "cell_type": "code",
   "execution_count": 34,
   "id": "98f258f7",
   "metadata": {},
   "outputs": [],
   "source": [
    "conn.commit()"
   ]
  },
  {
   "cell_type": "code",
   "execution_count": null,
   "id": "7c589267",
   "metadata": {},
   "outputs": [],
   "source": []
  }
 ],
 "metadata": {
  "kernelspec": {
   "display_name": "Python 3 (ipykernel)",
   "language": "python",
   "name": "python3"
  },
  "language_info": {
   "codemirror_mode": {
    "name": "ipython",
    "version": 3
   },
   "file_extension": ".py",
   "mimetype": "text/x-python",
   "name": "python",
   "nbconvert_exporter": "python",
   "pygments_lexer": "ipython3",
   "version": "3.11.3"
  }
 },
 "nbformat": 4,
 "nbformat_minor": 5
}
